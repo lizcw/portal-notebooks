{
 "cells": [
  {
   "cell_type": "markdown",
   "metadata": {},
   "source": [
    "# Remote upload of VR media\n",
    "\n",
    "\n",
    "To remotely upload data and files, we will use the REST API provided by the iScience server.  There are several steps involved with uploading then connecting the upload with an experiment. The relationship between these is described as:\n",
    "\n",
    "Experiment -- [1-many]-- ExperimentResult -- [1 to 1] -- VR media\n",
    "\n",
    "The steps are as follows:\n",
    "\n",
    "1. Create a Session (username/password) to get a token\n",
    "1. Create VR media object with file upload\n",
    "1. Create an Experiment (or use an existing experiment)\n",
    "2. Create an Experiment Result linked to the experiment containing the VR media"
   ]
  },
  {
   "cell_type": "markdown",
   "metadata": {},
   "source": [
    "## Create a plot directory"
   ]
  },
  {
   "cell_type": "code",
   "execution_count": 13,
   "metadata": {},
   "outputs": [
    {
     "name": "stdout",
     "output_type": "stream",
     "text": [
      "/home/jovyan/work/data\n"
     ]
    }
   ],
   "source": [
    "import os\n",
    "DATA_DIR = os.path.join(os.getcwd(), 'data')\n",
    "if not os.path.exists(DATA_DIR):\n",
    "    os.mkdir(DATA_DIR)\n",
    "print(DATA_DIR)"
   ]
  },
  {
   "cell_type": "markdown",
   "metadata": {},
   "source": [
    "## Create an authenticated session"
   ]
  },
  {
   "cell_type": "code",
   "execution_count": 1,
   "metadata": {},
   "outputs": [
    {
     "name": "stdout",
     "output_type": "stream",
     "text": [
      "What is your username? demo\n"
     ]
    }
   ],
   "source": [
    "username=input('What is your username? ')"
   ]
  },
  {
   "cell_type": "code",
   "execution_count": 2,
   "metadata": {},
   "outputs": [
    {
     "name": "stdout",
     "output_type": "stream",
     "text": [
      "What is your password (this will show in plain text)? iScience2019\n"
     ]
    }
   ],
   "source": [
    "password=input('What is your password (this will show in plain text)? ')"
   ]
  },
  {
   "cell_type": "code",
   "execution_count": 3,
   "metadata": {},
   "outputs": [
    {
     "name": "stdout",
     "output_type": "stream",
     "text": [
      "Token 37a561a3c66eb68eb95e8101905ce49a087be3ef\n"
     ]
    }
   ],
   "source": [
    "import requests\n",
    "from requests.auth import HTTPBasicAuth\n",
    "import json\n",
    "from urllib.parse import urlparse, urljoin\n",
    "import petl as etl\n",
    "import certifi\n",
    "import urllib3\n",
    "# Using SSL so require certification but no access to certs so turn off the warning\n",
    "urllib3.disable_warnings(urllib3.exceptions.InsecureRequestWarning)\n",
    "\n",
    "# Enter URL for experiments API\n",
    "exptbaseurl = 'https://agri-ml.it.csiro.au:8443'\n",
    "\n",
    "# Get an access token - replace user and password with actual values\n",
    "serviceurl = exptbaseurl + '/api-token-auth/'\n",
    "data = dict(username=username, password=password)\n",
    "\n",
    "auth = requests.post(serviceurl, verify=False, data=data)\n",
    "\n",
    "if auth.status_code != 200:\n",
    "    print(\"Could not successfully access REST API: \" + serviceurl)\n",
    "else:\n",
    "    token = 'Token ' + auth.json()['token']\n",
    "    print(token)"
   ]
  },
  {
   "cell_type": "markdown",
   "metadata": {},
   "source": [
    "## Upload VR media\n",
    "\n",
    "1. Upload the VR video and optionally, a thumbnail image to this server (data directory) at https://agri-ml.it.csiro.au:8888/tree? by clicking on upload\n",
    "  1. Max file size is currently set to 100MB (limited by dev server)\n",
    "  1. Thumbnail image dimensions of 300px x 400px png image is preferred\n",
    "1. Create an entry for the VR file in the database\n"
   ]
  },
  {
   "cell_type": "code",
   "execution_count": 7,
   "metadata": {},
   "outputs": [
    {
     "name": "stdout",
     "output_type": "stream",
     "text": [
      "Successfully created the new VR: id = 21\n"
     ]
    }
   ],
   "source": [
    "vr_url = exptbaseurl + '/vrmodules/'\n",
    "headers = {'Authorization': token}\n",
    "\n",
    "# Describe the file to upload\n",
    "name = \"AIM VR Video\"\n",
    "description = \"VR media upload remotely\"\n",
    "filename = \"outputMain.mp4\" # Relative path to file\n",
    "vrtype = \"Video\" # Choice of Video, Image or Shapes\n",
    "\n",
    "# Set data details for VR media with file upload\n",
    "data = {\"id\":\"0\", \n",
    "        \"name\": name, \n",
    "        \"description\": description, \n",
    "        \"filename\": filename, \n",
    "        \"uri\": \"\",\n",
    "        \"stereo\": \"true\", \n",
    "        \"autopanoff\": \"false\", \n",
    "        \"width\": \"100%\",\n",
    "        \"height\": \"400\", \n",
    "        \"type\": vrtype, \n",
    "        \"markup\": \" `<a-scene><a-sky src=\\\"\" + filename + \"\\\" rotation=\\\"0 -130 0\\\"></a-sky></a-scene>`\"}\n",
    "files = {'vrfile': open(os.path.join(DATA_DIR, filename),'rb')}\n",
    "\n",
    "# Send to the server\n",
    "try:\n",
    "    r = requests.post(vr_url, verify=False, headers=headers, files=files, data=data)\n",
    "    r.raise_for_status()\n",
    "    response = r.json()\n",
    "    print(\"Successfully created the new VR: id = \" + str(response[\"id\"]))\n",
    "    vr_id = response[\"id\"] # the new ID assigned to the VR upload\n",
    "except requests.exceptions.HTTPError as e:\n",
    "    print(e)   "
   ]
  },
  {
   "cell_type": "markdown",
   "metadata": {},
   "source": [
    "## Check the VR module in the database"
   ]
  },
  {
   "cell_type": "code",
   "execution_count": 8,
   "metadata": {},
   "outputs": [
    {
     "name": "stdout",
     "output_type": "stream",
     "text": [
      "Printing content of VR: id = 21\n",
      "***********\n",
      "id: 21\n",
      "vr_results: []\n",
      "name: AIM VR Video\n",
      "description: VR media upload remotely\n",
      "filename: outputMain.mp4\n",
      "uri: \n",
      "width: 100%\n",
      "height: 400\n",
      "stereo: True\n",
      "autopanoff: False\n",
      "type: Video\n",
      "markup: `<a-scene><a-sky src=\"outputMain.mp4\" rotation=\"0 -130 0\"></a-sky></a-scene>`\n",
      "vrfile: https://agri-ml.it.csiro.au:8443/media/outputMain_gYEMgN4.mp4\n"
     ]
    }
   ],
   "source": [
    "vr_url = exptbaseurl + '/vrmodules/' + str(vr_id)\n",
    "headers = {'Authorization': token, 'Content-type': 'application/json'}\n",
    "\n",
    "try:\n",
    "    r = requests.get(vr_url, verify=False, headers=headers)\n",
    "    r.raise_for_status()\n",
    "    response = r.json()\n",
    "    print(\"Printing content of VR: id = \" + str(vr_id))\n",
    "    print(\"***********\")\n",
    "    for key in response.keys():\n",
    "        print(key + \": \" + str(response[key]))\n",
    "except requests.exceptions.HTTPError as e:\n",
    "    print(e) "
   ]
  },
  {
   "cell_type": "markdown",
   "metadata": {},
   "source": [
    "## Get an existing Experiment\n",
    "Get the required Experiment ID from the iScience portal."
   ]
  },
  {
   "cell_type": "code",
   "execution_count": 10,
   "metadata": {},
   "outputs": [
    {
     "name": "stdout",
     "output_type": "stream",
     "text": [
      "Retrieved Experiment: id = 12\n",
      "***********\n",
      "Name: Experiment for uploaded VR\n"
     ]
    }
   ],
   "source": [
    "# Set required Experiment ID\n",
    "expt_id = 12 \n",
    "\n",
    "# Retrieve experiment to check (optional step)\n",
    "expt_url = exptbaseurl + '/experiments/' + str(expt_id)\n",
    "try:\n",
    "    r = requests.get(expt_url, verify=False, headers=headers)\n",
    "    r.raise_for_status()\n",
    "    response = r.json()\n",
    "    print(\"Retrieved Experiment: id = \" + str(expt_id))\n",
    "    print(\"***********\")\n",
    "    print(\"Name: \" + str(response[\"name\"]))\n",
    "except requests.exceptions.HTTPError as e:\n",
    "    print(e) "
   ]
  },
  {
   "cell_type": "markdown",
   "metadata": {},
   "source": [
    "### Create Experiment Result with VR Media"
   ]
  },
  {
   "cell_type": "code",
   "execution_count": 12,
   "metadata": {},
   "outputs": [
    {
     "name": "stdout",
     "output_type": "stream",
     "text": [
      "Successfully linked the VR to Experiment: id = 29\n"
     ]
    }
   ],
   "source": [
    "# Set URl\n",
    "expt_results_url = exptbaseurl + '/experiment_results/'\n",
    "\n",
    "# Set Data details to upload\n",
    "data = {\"id\": \"0\", \n",
    "        \"description\": \"AIM video of powder coating\", \n",
    "        \"result_type\": \"VR\",\n",
    "        \"experiment\": str(expt_id), \n",
    "        \"vrmodule\": str(vr_id)}\n",
    "\n",
    "# Optional, add a thumbnail - EXACT filename (case sensitive)\n",
    "files = {\"thumbnail\" : open(os.path.join(DATA_DIR, \"AIM_video.PNG\"), \"rb\")}\n",
    "headers = {'Authorization': token}\n",
    "\n",
    "try:\n",
    "    r = requests.post(expt_results_url, verify=False, headers=headers, files=files, data=data)\n",
    "    r.raise_for_status()\n",
    "    response = r.json()\n",
    "    print(\"Successfully linked the VR to Experiment: id = \" + str(response[\"id\"]))\n",
    "    expt_result_id = response[\"id\"] # the new ID assigned to the Experiment Result\n",
    "except requests.exceptions.HTTPError as e:\n",
    "    print(e)   "
   ]
  },
  {
   "cell_type": "markdown",
   "metadata": {},
   "source": [
    "## Create a new Experiment to link to\n",
    "If you need to create the experiment first, there are some more data to provide.\n",
    "\n",
    "*It is important to ensure the type and status match the expected values as they are lookup values*"
   ]
  },
  {
   "cell_type": "code",
   "execution_count": 36,
   "metadata": {},
   "outputs": [],
   "source": [
    "data = {\n",
    "    \"type\": {\n",
    "        \"id\": 2,\n",
    "        \"name\": \"Spectroscopy\"\n",
    "    },\n",
    "    \"status\": {\n",
    "        \"id\": 1,\n",
    "        \"name\": \"Active\"\n",
    "    },\n",
    "    \"name\": \"Experiment for uploaded VR\",\n",
    "    \"number\": \"001\",\n",
    "    \"accession\": \"accessnumber\",\n",
    "    \"comments\": \"comments here\",\n",
    "    \"samplecode\": \"\",\n",
    "    \"summary\": \"CREATED from Jupyter Notebook\",\n",
    "    \"uident\": \"tst001\",\n",
    "    \"results\": []\n",
    "}"
   ]
  },
  {
   "cell_type": "markdown",
   "metadata": {},
   "source": [
    "#### Create the new experiment"
   ]
  },
  {
   "cell_type": "code",
   "execution_count": 37,
   "metadata": {},
   "outputs": [
    {
     "name": "stdout",
     "output_type": "stream",
     "text": [
      "Successfully created the new Experiment: id=6\n"
     ]
    }
   ],
   "source": [
    "expt_url = exptbaseurl + '/experiments/'\n",
    "headers = {'Authorization': token, 'Content-type': 'application/json'}\n",
    "try:\n",
    "    r = requests.post(expt_url, verify=False, headers=headers, json=data)\n",
    "    r.raise_for_status()\n",
    "    response = r.json()\n",
    "    print(\"Successfully created the new Experiment: id=\" + str(response[\"id\"]) )\n",
    "except requests.exceptions.HTTPError as e:\n",
    "    print(e)  "
   ]
  },
  {
   "cell_type": "markdown",
   "metadata": {},
   "source": [
    "#### Add the VR to the new experiment\n",
    "A copy of the code above"
   ]
  },
  {
   "cell_type": "code",
   "execution_count": 12,
   "metadata": {},
   "outputs": [
    {
     "name": "stdout",
     "output_type": "stream",
     "text": [
      "Successfully linked the VR to Experiment: id = 29\n"
     ]
    }
   ],
   "source": [
    "# Set URl\n",
    "expt_results_url = exptbaseurl + '/experiment_results/'\n",
    "\n",
    "# Set Data details to upload\n",
    "data = {\"id\": \"0\", \n",
    "        \"description\": \"AIM video of powder coating\", \n",
    "        \"result_type\": \"VR\",\n",
    "        \"experiment\": str(expt_id), \n",
    "        \"vrmodule\": str(vr_id)}\n",
    "\n",
    "# Optional, add a thumbnail - EXACT filename (case sensitive)\n",
    "files = {\"thumbnail\" : open(os.path.join(DATA_DIR, \"AIM_video.PNG\"), \"rb\")}\n",
    "headers = {'Authorization': token}\n",
    "\n",
    "try:\n",
    "    r = requests.post(expt_results_url, verify=False, headers=headers, files=files, data=data)\n",
    "    r.raise_for_status()\n",
    "    response = r.json()\n",
    "    print(\"Successfully linked the VR to Experiment: id = \" + str(response[\"id\"]))\n",
    "    expt_result_id = response[\"id\"] # the new ID assigned to the Experiment Result\n",
    "except requests.exceptions.HTTPError as e:\n",
    "    print(e)   "
   ]
  },
  {
   "cell_type": "markdown",
   "metadata": {},
   "source": [
    "**When all done, login to the portal at https://agri-ml.it.csiro.au/ and view your new results**"
   ]
  }
 ],
 "metadata": {
  "kernelspec": {
   "display_name": "Python 3",
   "language": "python",
   "name": "python3"
  },
  "language_info": {
   "codemirror_mode": {
    "name": "ipython",
    "version": 3
   },
   "file_extension": ".py",
   "mimetype": "text/x-python",
   "name": "python",
   "nbconvert_exporter": "python",
   "pygments_lexer": "ipython3",
   "version": "3.7.3"
  }
 },
 "nbformat": 4,
 "nbformat_minor": 2
}
